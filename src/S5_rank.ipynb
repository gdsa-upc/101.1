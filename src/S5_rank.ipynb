{
 "metadata": {
  "name": "",
  "signature": "sha256:37c40ef4dfc1cc94003f2ee21f4af7f957f84359dd731f288435035a62c0b0cc"
 },
 "nbformat": 3,
 "nbformat_minor": 0,
 "worksheets": [
  {
   "cells": [
    {
     "cell_type": "heading",
     "level": 1,
     "metadata": {},
     "source": [
      "RANKING\n",
      "\n",
      "No funciona correctament.\n"
     ]
    },
    {
     "cell_type": "code",
     "collapsed": false,
     "input": [
      "import os\n",
      "print(os.getcwd())\n",
      "\n",
      "rank(\"../txt/bow_train.p\", \"../txt/bow_val.p\", \"../rank/\", \"../TerrassaBuildings900/val/annotation.txt\")\n"
     ],
     "language": "python",
     "metadata": {},
     "outputs": [
      {
       "output_type": "stream",
       "stream": "stdout",
       "text": [
        "/Users/Sergi/Desktop/GDSA101.1/app/What-a-building-App/src\n"
       ]
      }
     ],
     "prompt_number": 3
    },
    {
     "cell_type": "code",
     "collapsed": false,
     "input": [],
     "language": "python",
     "metadata": {},
     "outputs": [],
     "prompt_number": 1
    },
    {
     "cell_type": "code",
     "collapsed": false,
     "input": [],
     "language": "python",
     "metadata": {},
     "outputs": []
    }
   ],
   "metadata": {}
  }
 ]
}