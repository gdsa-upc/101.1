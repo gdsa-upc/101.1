{
 "metadata": {
  "name": "",
  "signature": "sha256:50021c44c8960d4219eb002279412f0f0f845c863d1dc2b899709c1771c01f2c"
 },
 "nbformat": 3,
 "nbformat_minor": 0,
 "worksheets": [
  {
   "cells": [
    {
     "cell_type": "code",
     "collapsed": false,
     "input": [
      "# -*- coding: utf-8 -*-\n",
      "import cv2\n",
      "import pickle #Ejemplos de serializaci\u00f3n: https://docs.python.org/2/library/pickle.html\n",
      "import numpy as np\n",
      "import os\n",
      "\n",
      "#450 imagenes en la carpeta train\n",
      "#180 imagenes en la carpeta val\n",
      "\n",
      "#num_picture_train=450+1;\n",
      "#num_picture_val=180+1;\n",
      "\n",
      "#    Para utilizar el path se debe utilizar una estructura asi:\n",
      "\n",
      "#    TerrassaBuildings900               -> Aqu\u00ed deben estar las im\u00e1genes\n",
      "#    src                                -> Aqu\u00ed deben estar los archivos .py\n",
      "#    txt                                -> Aqu\u00ed guardaremos los ficheros txt generados\n",
      "\n"
     ],
     "language": "python",
     "metadata": {},
     "outputs": [],
     "prompt_number": 1
    },
    {
     "cell_type": "code",
     "collapsed": false,
     "input": [
      "cd /Users/Sergi/Desktop/GDSA101.1/101.1/src/"
     ],
     "language": "python",
     "metadata": {},
     "outputs": [
      {
       "output_type": "stream",
       "stream": "stdout",
       "text": [
        "/Users/Sergi/Desktop/GDSA101.1/101.1/src\n"
       ]
      }
     ],
     "prompt_number": 2
    },
    {
     "cell_type": "code",
     "collapsed": false,
     "input": [
      "#Definim path \n",
      "path_imagenes_train = \"../TerrassaBuildings900/train/images/\"\n",
      "path_imagenes_val = \"../TerrassaBuildings900/val/images/\"\n",
      "dir_archivos_txt = \"../txt/\"\n",
      "dir_descriptores = \"../descriptores/\""
     ],
     "language": "python",
     "metadata": {},
     "outputs": [],
     "prompt_number": 3
    },
    {
     "cell_type": "code",
     "collapsed": false,
     "input": [
      "# Funcion get_features-->archivo image id es el nombre del archivo. En este caso hay dos ID_images_train.txt o ID_images_val.txt\n",
      "\n",
      "def get_features(directorio_imagenes, archivo_image_id, directorio_descriptores):\n",
      "\n",
      "\n",
      "    archivo_imageid = open(dir_archivos_txt+archivo_image_id, 'r') #Abrir el archivo de con las ID's de las imangenes\n",
      "    dict_caracteristicas={} #creamos un diccionario vacio\n",
      "    \n",
      "    if not os.path.exists(directorio_descriptores):\n",
      "        os.makedirs(directorio_descriptores)\n",
      "\n",
      "\n",
      "    for id_linia in archivo_imageid:\n",
      "\n",
      "        vector_caract_random = np.random.random_integers(0, 255, 100) ;#Te genera un array con  100 numeros random entre 0 y 255\n",
      "        linia = id_linia.split(); # lee la linia del fichero\n",
      "        dict_caracteristicas [linia[0]] = vector_caract_random #asignamos por cada linia un vector de caracteristicas diferente\n",
      "\n",
      "\n",
      "        if archivo_image_id == \"ID_images_train.txt\":\n",
      "            pickle.dump(dict_caracteristicas, open(directorio_descriptores+\"descriptor_\" + \"train.p\", \"wb\" ) ) # guarda el diccionario en un archivo .p\n",
      "        else:\n",
      "            pickle.dump(dict_caracteristicas, open(directorio_descriptores+\"descriptor_\" + \"val.p\", \"wb\" ) ) # guarda el diccionario en un archivo .p\n",
      "\n",
      "\n",
      "\n",
      "    archivo_imageid.close()\n",
      "    #descriptor_file.close()"
     ],
     "language": "python",
     "metadata": {},
     "outputs": [],
     "prompt_number": 4
    },
    {
     "cell_type": "code",
     "collapsed": false,
     "input": [
      "#Generamos los dos archivso\n",
      "\n",
      "get_features(path_imagenes_train,\"ID_images_train.txt\", dir_descriptores)\n",
      "get_features(path_imagenes_val, \"ID_images_val.txt\", dir_descriptores)"
     ],
     "language": "python",
     "metadata": {},
     "outputs": [],
     "prompt_number": 5
    },
    {
     "cell_type": "code",
     "collapsed": false,
     "input": [
      "#Cargamos los dos diccionarios para comprobar que se han generado bien\n",
      "#Load a pickle file\n",
      "\n",
      "dict_val = pickle.load( open(dir_descriptores+\"descriptor_val.p\", \"rb\" ) ) #lee el archivo creado .p donde esta el diccionario.\n",
      "dict_train = pickle.load( open(dir_descriptores+\"descriptor_train.p\", \"rb\" ) )#"
     ],
     "language": "python",
     "metadata": {},
     "outputs": [],
     "prompt_number": 6
    },
    {
     "cell_type": "code",
     "collapsed": false,
     "input": [],
     "language": "python",
     "metadata": {},
     "outputs": []
    }
   ],
   "metadata": {}
  }
 ]
}