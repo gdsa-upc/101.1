{
 "metadata": {
  "name": "",
  "signature": "sha256:6ca18bc2bdc02e2a48fc0fcd59d95577d49107d76df2a25ffb14e0ecf6444dae"
 },
 "nbformat": 3,
 "nbformat_minor": 0,
 "worksheets": [
  {
   "cells": [
    {
     "cell_type": "code",
     "collapsed": false,
     "input": [
      "# -*- coding: utf-8 -*-\n",
      "\n",
      "import os\n",
      "\n",
      "\n",
      "#    Lee las imagenes de una carpeta y almacena el las ID's de cada imagen en un fichero txt\n",
      "\n",
      "\n",
      "#    Para utilizar el path se debe utilizar una estructura asi:\n",
      "\n",
      "#    TerrassaBuildings900               -> Aqu\u00ed deben estar las im\u00e1genes\n",
      "#    src                                -> Aqu\u00ed deben estar los archivos .py\n",
      "#    txt                                -> Aqu\u00ed guardaremos los ficheros txt generados\n"
     ],
     "language": "python",
     "metadata": {},
     "outputs": [],
     "prompt_number": 1
    },
    {
     "cell_type": "code",
     "collapsed": false,
     "input": [
      "#    Para utilizar las variables de path debemos ejecutar el script desde la carpeta /src.\n",
      "\n",
      "path_imagenes_train = \"../TerrassaBuildings900/train/images/\" #Esta variable la utilizamos para referirnos al directorio donde extraer las imagenes.\n",
      "path_imagenes_val = \"../TerrassaBuildings900/val/images/\" #Si estamos en el directorio /src y ejecutamos ../ volvemos al directorio el cual pertenece que es nuestro directorio master.\n",
      "dir_archivos_txt = \"../txt/\"\n"
     ],
     "language": "python",
     "metadata": {},
     "outputs": [],
     "prompt_number": 2
    },
    {
     "cell_type": "code",
     "collapsed": false,
     "input": [
      "def build_database(directorio_imagenes, directorio_txt, trainorval):\n",
      "    imagenes_dir = os.listdir(directorio_imagenes) #Asigna el nombre de cada imagen a una posici\u00f3n del vector image_files[1]\n",
      "    print(\"Archivos leidos del directorio(path absoluto): \" + os.path.abspath(directorio_imagenes))\n",
      "    if not os.path.exists(dir_archivos_txt):\n",
      "        os.makedirs(dir_archivos_txt)\n",
      "\n",
      "    fichero_txt = open(directorio_txt + 'ID_images_'+trainorval+'.txt', 'w') # Abre el fichero donde guardaremos las ID's\n",
      "    for imagenes  in imagenes_dir: # Mientras haya imagenes en el directorio imagenes_dir...\n",
      "        fichero_txt.write(imagenes[0:-4] + \"\\n\") # escribe la el nombre de la id sin el jpg y a\u00f1ade un INTRO al final de cada nombre\n",
      "\n",
      "\n"
     ],
     "language": "python",
     "metadata": {},
     "outputs": [],
     "prompt_number": 3
    },
    {
     "cell_type": "code",
     "collapsed": false,
     "input": [
      "cd /Users/Sergi/Desktop/GDSA101.1/101.1/src"
     ],
     "language": "python",
     "metadata": {},
     "outputs": [
      {
       "output_type": "stream",
       "stream": "stdout",
       "text": [
        "/Users/Sergi/Desktop/GDSA101.1/101.1/src\n"
       ]
      }
     ],
     "prompt_number": 7
    },
    {
     "cell_type": "code",
     "collapsed": false,
     "input": [
      "# Crear los dos ficheros txt con las ID para cada directorio\n",
      "\n",
      "build_database(path_imagenes_train, dir_archivos_txt, 'train')\n",
      "build_database(path_imagenes_val, dir_archivos_txt, 'val')"
     ],
     "language": "python",
     "metadata": {},
     "outputs": [
      {
       "output_type": "stream",
       "stream": "stdout",
       "text": [
        "Archivos leidos del directorio(path absoluto): /Users/Sergi/Desktop/GDSA101.1/101.1/TerrassaBuildings900/train/images\n",
        "Archivos leidos del directorio(path absoluto): /Users/Sergi/Desktop/GDSA101.1/101.1/TerrassaBuildings900/val/images\n"
       ]
      }
     ],
     "prompt_number": 9
    },
    {
     "cell_type": "code",
     "collapsed": false,
     "input": [
      " # Miramos si ha creado un archivo en la carpeta /txt\n",
      "os.listdir('/Users/Sergi/Desktop/GDSA101.1/101.1/txt/')"
     ],
     "language": "python",
     "metadata": {},
     "outputs": [
      {
       "metadata": {},
       "output_type": "pyout",
       "prompt_number": 15,
       "text": [
        "['.DS_Store', 'classificacio.txt', 'ID_images_train.txt', 'ID_images_val.txt']"
       ]
      }
     ],
     "prompt_number": 15
    },
    {
     "cell_type": "code",
     "collapsed": false,
     "input": [],
     "language": "python",
     "metadata": {},
     "outputs": []
    }
   ],
   "metadata": {}
  }
 ]
}