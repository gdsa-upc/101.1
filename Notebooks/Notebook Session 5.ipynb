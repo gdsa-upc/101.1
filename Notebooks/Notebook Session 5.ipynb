{
 "metadata": {
  "name": "",
  "signature": "sha256:58528c285bf7c93b261e59270abfabcb619b3d2c81cf70c28bbd84ca691f0f7f"
 },
 "nbformat": 3,
 "nbformat_minor": 0,
 "worksheets": [
  {
   "cells": [
    {
     "cell_type": "heading",
     "level": 1,
     "metadata": {},
     "source": [
      "Session 5 - GDSA  / What a Building App! (101.1)"
     ]
    },
    {
     "cell_type": "heading",
     "level": 3,
     "metadata": {},
     "source": [
      "Feature Extraction"
     ]
    },
    {
     "cell_type": "heading",
     "level": 4,
     "metadata": {},
     "source": [
      "Extract local features"
     ]
    },
    {
     "cell_type": "code",
     "collapsed": false,
     "input": [
      "import os\n",
      "import cv2\n",
      "import matplotlib as plt\n",
      "import numpy as np\n",
      "import pickle #Ejemplos de serializaci\u00f3n: https://docs.python.org/2/library/pickle.html"
     ],
     "language": "python",
     "metadata": {},
     "outputs": [],
     "prompt_number": 19
    },
    {
     "cell_type": "code",
     "metadata": {},
     "source": [
      "from funciones import get_local_features\n",
      "get_local_features(\"../TerrassaBuildings900/train/images/51-16676-22265.jpg\")\n",
      "\n",
      "Out[15]: \n",
      "array([[  31.,    1.,    2., ...,    0.,    1.,   15.],\n",
      "       [  15.,   65.,   12., ...,   90.,    1.,    0.],\n",
      "       [   0.,    0.,    7., ...,    0.,   11.,   79.],\n",
      "       ..., \n",
      "       [  89.,   49.,    0., ...,    0.,    0.,    3.],\n",
      "       [  15.,   91.,  115., ...,    1.,    1.,    0.],\n",
      "       [   0.,    0.,    0., ...,    0.,   40.,  121.]], dtype=float32)\n"
     ]
    },
    {
     "cell_type": "markdown",
     "metadata": {},
     "source": [
      "Per cada imatge, extreiem els descriptors. Per fer-ho hem utilitzat SIFT() i haver d escalar la imatge(resize) a 500x500. "
     ]
    },
    {
     "cell_type": "code",
     "collapsed": false,
     "input": [
      "# Devuelve los descriptores de una imagen en un array de float32\n",
      "def get_local_features(imatge):\n",
      "\n",
      "    # Otro posible m\u00e9todo: orb = cv2.ORB()\n",
      "    img = cv2.imread(imatge)\n",
      "\n",
      "\n",
      "    small = cv2.resize(img, (500, 500)) #escalamos la imagen a 500x500\n",
      "    \n",
      "    # Pruebas res = cv2.resize(img,((0.5)*width, (0.5)*height), interpolation = cv2.INTER_CUBIC)\n",
      "    #small = cv2.resize(img, (0,0), fx=0.1, fy=0.1) #Hacemos un risize i reducimos el tama\u00f1o de los ejes a un 10%\n",
      "\n",
      "\n",
      "    #detectAndCompute: http://opencv-python-tutroals.readthedocs.org/en/latest/py_tutorials/py_feature2d/py_matcher/py_matcher.html\n",
      "    kp, des = cv2.SIFT().detectAndCompute(small, None) #kp= n\u00famero de punts d'interes -- des= descriptores\n",
      "    #kp, des = orb.detectAndCompute(small,None) #kp= n\u00famero de punts d'interes -- des= descriptores\n",
      "\n",
      "    return des"
     ],
     "language": "python",
     "metadata": {},
     "outputs": [],
     "prompt_number": 20
    },
    {
     "cell_type": "heading",
     "level": 4,
     "metadata": {},
     "source": [
      "Train codebook"
     ]
    },
    {
     "cell_type": "markdown",
     "metadata": {},
     "source": [
      "Quan ja teninm tots els descriptors, els ajuntem i entrenem el codebook"
     ]
    },
    {
     "cell_type": "code",
     "collapsed": false,
     "input": [
      "import cv2\n",
      "import numpy as np\n",
      "from numpy import array\n",
      "import os\n",
      "import scipy\n",
      "from scipy.cluster.vq import vq, kmeans, whiten"
     ],
     "language": "python",
     "metadata": {},
     "outputs": [],
     "prompt_number": 21
    },
    {
     "cell_type": "code",
     "metadata": {},
     "source": [
      "from funciones import *"
     ]
    },
    {
     "cell_type": "markdown",
     "metadata": {},
     "source": [
      "Busquem les centroides:"
     ]
    },
    {
     "cell_type": "code",
     "collapsed": false,
     "input": [
      "def train_codebook(numClusters, descriptores): #Nom\u00e9s para las imagenes de train\n",
      "\n",
      "    centroides,_= kmeans(descriptores, numClusters)\n",
      "\n",
      "    print \"codebook creado\\n\"\n",
      "    return centroides # Devuelve el vector codebook"
     ],
     "language": "python",
     "metadata": {},
     "outputs": [],
     "prompt_number": 22
    },
    {
     "cell_type": "markdown",
     "metadata": {},
     "source": [
      "En el cas que: "
     ]
    },
    {
     "cell_type": "code",
     "metadata": {},
     "source": [
      "if __name__== \"__main__\":\n",
      "    descriptoresss = get_local_features(\"../TerrassaBuildings900/train/images/4406-18633-1754.jpg\")\n",
      "    codebook1 = train_codebook(1, descriptoresss)\n",
      "    \n",
      "    \n",
      "    print(codebook1.size)\n",
      "    print(codebook1.shape)\n",
      "    print(codebook1[:])"
     ]
    },
    {
     "cell_type": "code",
     "metadata": {},
     "source": [
      "128\n",
      "(1L, 128L)\n",
      "[[ 27.29045677  22.35788345  21.04668045  15.96058083  24.33402443\n",
      "   13.14419079  10.89315319  13.33506203  66.1576767   33.27800751\n",
      "   20.55394173  15.61410809  21.79979324  14.24273872  14.35892105\n",
      "   26.78941917  63.33091354  25.7790451   15.16078854  13.97614098\n",
      "   26.58402443  17.94813347  19.92427444  34.72303009  29.67738533\n",
      "   14.94087124  11.17531109  13.80497932  25.97302818  17.01970863\n",
      "   18.06950188  23.42012405  36.5300827   20.77282143  20.85165977\n",
      "   19.94294548  31.89107895  18.31846428  13.85165977  16.85477257\n",
      "   97.0331955   35.29253006  21.08091354  22.67323685  29.76452255\n",
      "   18.19917107  17.23132706  38.44398499  89.33817291  34.46265411\n",
      "   15.54149342  19.54668045  38.4066391   27.00726128  23.18464661\n",
      "   38.77385712  36.97303009  18.07883835  13.94709587  20.47302818\n",
      "   35.56846619  22.94709587  20.21369362  23.11307144  37.14211655\n",
      "   16.35477257  12.8423233   16.23236465  30.32157707  23.52489662\n",
      "   22.75726128  22.45331955  95.50726318  37.44813156  16.16286278\n",
      "   17.26244736  30.91908646  24.67842293  23.40975189  36.95020676\n",
      "   89.29045868  40.33298874  23.26037407  27.10062218  39.45954514\n",
      "   20.80082893  16.34854698  33.17116165  37.49688721  23.70020676\n",
      "   20.91804886  23.83817482  35.77178574  21.0331955   13.85373402\n",
      "   15.34647274  29.62759399  14.18983364  10.2188797   13.12033176\n",
      "   23.1234436   17.57261467  19.52800751  21.6856842   65.67427063\n",
      "   27.8755188   14.37863064  14.50414944  24.39211655  18.01348495\n",
      "   21.01037407  33.32883835  61.1576767   35.35684586  19.72925377\n",
      "   17.97199249  29.74066353  16.90145302  15.64522839  25.20124435\n",
      "   29.41390038  21.28526878  18.7821579   19.11410713  27.4356842\n",
      "   15.09024906  11.33609962  13.42634869]]\n"
     ]
    },
    {
     "cell_type": "heading",
     "level": 4,
     "metadata": {},
     "source": [
      "Compute Assignments"
     ]
    },
    {
     "cell_type": "markdown",
     "metadata": {},
     "source": [
      "Ara que ja tenim les centroides, fem les assignacions tant per train com per validacio"
     ]
    },
    {
     "cell_type": "code",
     "collapsed": false,
     "input": [
      "from scipy.cluster.vq import vq, whiten\n",
      "import matplotlib.pyplot as plt"
     ],
     "language": "python",
     "metadata": {},
     "outputs": [],
     "prompt_number": 23
    },
    {
     "cell_type": "code",
     "metadata": {},
     "source": [
      "from funciones import *"
     ]
    },
    {
     "cell_type": "code",
     "collapsed": false,
     "input": [
      "def get_assignments(codebook, descriptores):\n",
      "    norm_descriptores = whiten(descriptores) # Normaliza descriptores\n",
      "    assignments,_ = vq(descriptores, codebook) # genera el vector de assigments\n",
      "\n",
      "    return assignments"
     ],
     "language": "python",
     "metadata": {},
     "outputs": [],
     "prompt_number": 24
    },
    {
     "cell_type": "markdown",
     "metadata": {},
     "source": [
      "Pel seguent cas:"
     ]
    },
    {
     "cell_type": "code",
     "metadata": {},
     "source": [
      "\n",
      "if __name__== \"__main__\":\n",
      "\n",
      "    descriptor1 = get_local_features(\"../TerrassaBuildings900/train/images/4406-18633-1754.jpg\")\n",
      "    codebook = train_codebook(5, descriptor1)\n",
      "    descriptor2= get_local_features(\"../TerrassaBuildings900/val/images/22053-9694-8921.jpg\")\n",
      "    assig = get_assignments(codebook, descriptor2)\n",
      "\n",
      "    print(assig)\n",
      "    print \"Longuitud del assignments= \" + str(len(assig))\n",
      "    \n",
      "    plt.scatter(descriptor2[:,0], descriptor2[:,1]), plt.scatter(codebook[:,0], codebook[:,1], color='r'), plt.show()"
     ]
    },
    {
     "cell_type": "markdown",
     "metadata": {},
     "source": [
      "Obtenim aquest valors"
     ]
    },
    {
     "cell_type": "code",
     "metadata": {},
     "source": [
      "[1 0 1 0 4 2 2 1 4 2 1 1 2 1 2 1 2 2 4 4 4 1 0 2 2 2 3 4 2 1 4 4 4 3 3 3 3\n",
      " 2 3 2 1 1 1 2 3 3 2 4 1 1 0 0 1 0 2 1 1 1 1 4 4 1 4 1 4 1 3 3 1 3 4 4 4 2\n",
      " 1 4 3 3 4 3 4 2 3 3 4 2 3 2 4 4 3 4 3 1 1 0 2 2 2 2 2 2 0 0 2 2 2 2 2 0 0\n",
      " 2 4 2 4 4 2 4 2 4 1 2 4 2 1 1 0 2 4 2 2 4 2 4 2 4 3 4 1 1 1 2 2 2 1 1 3 1\n",
      " 4 0 1 1 1 0 2 2 1 1 3 4 1 4 1 1 3 3 4 4 4 4 4 4 4 4 4 4 4 4 4 4 4 4 3 4 4\n",
      " 4 3 1 1 0 0 1 0 1 1 1 3 2 4 1 4 3 1 4 3 2 3 1 1 2 2 4 1 2 2 1 1 1 1 1 1 1\n",
      " 3 1 4 4 3 2 3 4 4 2 4 4 3 2 2 2 1 1 1 4 1 0 0 0 0 2 2 4 4 2 2 0 1 3 2 2 2\n",
      " 1 4 2 1 1 2 1 1 0 3 3 3 3 2 2 3 4 4 3 3 3 3 3 4 4 2 2 2 2 2 2 2 4 2 0 3 2\n",
      " 4 1 0 2 1 1 1 4 4 3 3 2 0 2 2 1 1 1 1 0 0 0 3 3 3 3 3 3 3 3 3 3 3 3 3 3 3\n",
      " 0 2 2 2 2 0 2 2 3 3 3 3 2 1 0 0 3 2 2 2 3 2 3 3 2 2 3 2 2 1 1 2 2 0 2 2 3\n",
      " 3 2 2 2 2 1 2 3 3 3 3 3 4 0 2 1 3 2 2 2 2 3 2 2 2 3 2 2 2 2 2 3 3 2 2 0 0\n",
      " 0 0 0]\n",
      "Longuitud del assignments= 410\n",
      "\n"
     ]
    },
    {
     "cell_type": "code",
     "collapsed": false,
     "input": [
      "from IPython.display import Image"
     ],
     "language": "python",
     "metadata": {},
     "outputs": [],
     "prompt_number": 27
    },
    {
     "cell_type": "markdown",
     "metadata": {},
     "source": [
      "![](C:\\Users\\Marc\\Desktop\\figure_1.png)"
     ]
    },
    {
     "cell_type": "markdown",
     "metadata": {},
     "source": [
      "![](C:\\Users\\Marc\\Desktop\\figure_1.png)"
     ]
    },
    {
     "cell_type": "markdown",
     "metadata": {},
     "source": [
      "![](/figure_1.png)"
     ]
    },
    {
     "cell_type": "heading",
     "level": 4,
     "metadata": {},
     "source": [
      "Construct BoW vector"
     ]
    },
    {
     "cell_type": "markdown",
     "metadata": {},
     "source": [
      "Construir el vector Bag of Words amb tots els incidents (histograma) per totesles imatges.\n",
      "Tant  de validacio com d entrenament."
     ]
    },
    {
     "cell_type": "code",
     "collapsed": false,
     "input": [
      "def build_bow(assignments):\n",
      "    counter_v= np.bincount(assignments)\n",
      "    counter_nor= preprocessing.normalize(counter_v)\n",
      "\n",
      "\n",
      "    #se tiene que devolver counter_nor, pero para pruebas es mejor verlo con counter_v y adem\u00e1s suelta warnings\n",
      "    #return counter_nor\n",
      "    return counter_v"
     ],
     "language": "python",
     "metadata": {},
     "outputs": [],
     "prompt_number": 30
    },
    {
     "cell_type": "code",
     "collapsed": false,
     "input": [],
     "language": "python",
     "metadata": {},
     "outputs": []
    }
   ],
   "metadata": {}
  }
 ]
}
