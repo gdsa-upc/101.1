{
 "metadata": {
  "name": "",
  "signature": "sha256:3f8cd56dfd637398c54ef90333d880a9dd3143c4fa8eb9b61f941bd1e8dd9555"
 },
 "nbformat": 3,
 "nbformat_minor": 0,
 "worksheets": [
  {
   "cells": [
    {
     "cell_type": "heading",
     "level": 1,
     "metadata": {},
     "source": [
      "Session 5 - GDSA  / What a Building App! (101.1)"
     ]
    },
    {
     "cell_type": "heading",
     "level": 3,
     "metadata": {},
     "source": [
      "Feature Extraction"
     ]
    },
    {
     "cell_type": "heading",
     "level": 4,
     "metadata": {},
     "source": [
      "Extract local features"
     ]
    },
    {
     "cell_type": "code",
     "collapsed": false,
     "input": [
      "import os\n",
      "import cv2\n",
      "import matplotlib as plt\n",
      "import numpy as np\n",
      "import pickle #Ejemplos de serializaci\u00f3n: https://docs.python.org/2/library/pickle.html\n",
      "from funciones.get_local_features import get_local_features"
     ],
     "language": "python",
     "metadata": {},
     "outputs": [],
     "prompt_number": 11
    },
    {
     "cell_type": "code",
     "collapsed": false,
     "input": [
      "print(os.getcwd())\n",
      "get_local_features(\"../TerrassaBuildings900/train/images/51-16676-22265.jpg\")"
     ],
     "language": "python",
     "metadata": {},
     "outputs": [
      {
       "output_type": "stream",
       "stream": "stdout",
       "text": [
        "/Users/Sergi/Desktop/GDSA101.1/app/What-a-building-App/src\n"
       ]
      },
      {
       "metadata": {},
       "output_type": "pyout",
       "prompt_number": 16,
       "text": [
        "array([[  31.,    1.,    2., ...,    0.,    1.,   15.],\n",
        "       [  15.,   65.,   12., ...,   90.,    1.,    0.],\n",
        "       [   0.,    0.,    7., ...,    0.,   11.,   79.],\n",
        "       ..., \n",
        "       [  89.,   49.,    0., ...,    0.,    0.,    3.],\n",
        "       [  15.,   91.,  115., ...,    1.,    1.,    0.],\n",
        "       [   0.,    0.,    0., ...,    0.,   40.,  121.]], dtype=float32)"
       ]
      }
     ],
     "prompt_number": 16
    },
    {
     "cell_type": "markdown",
     "metadata": {},
     "source": [
      "Per cada imatge, extreiem els descriptors. Per fer-ho hem utilitzat SIFT() hem escalat les imatges a 500x500"
     ]
    },
    {
     "cell_type": "heading",
     "level": 4,
     "metadata": {},
     "source": [
      "Train codebook"
     ]
    },
    {
     "cell_type": "markdown",
     "metadata": {},
     "source": [
      "Quan ja teninm tots els descriptors, els ajuntem i entrem el codebook"
     ]
    },
    {
     "cell_type": "code",
     "collapsed": false,
     "input": [
      "import cv2\n",
      "import numpy as np\n",
      "from numpy import array\n",
      "import os\n",
      "import scipy\n",
      "from scipy.cluster.vq import vq, kmeans, whiten"
     ],
     "language": "python",
     "metadata": {},
     "outputs": [],
     "prompt_number": 17
    },
    {
     "cell_type": "markdown",
     "metadata": {},
     "source": [
      "Busquem les centroides:"
     ]
    },
    {
     "cell_type": "markdown",
     "metadata": {},
     "source": [
      "En el cas que: "
     ]
    },
    {
     "cell_type": "code",
     "collapsed": false,
     "input": [
      "descriptoresss = get_local_features(\"../TerrassaBuildings900/train/images/4406-18633-1754.jpg\")\n",
      "codebook1 = train_codebook(1, descriptoresss)    \n",
      "    \n",
      "print(codebook1.size)\n",
      "print(codebook1.shape)\n",
      "print(codebook1[:])"
     ],
     "language": "python",
     "metadata": {},
     "outputs": [
      {
       "output_type": "stream",
       "stream": "stdout",
       "text": [
        "codebook creado\n",
        "\n",
        "128\n",
        "(1, 128)\n",
        "[[ 27.29045677  22.35788345  21.04668045  15.96058083  24.33402443\n",
        "   13.14419079  10.89315319  13.33506203  66.1576767   33.27800751\n",
        "   20.55394173  15.61410809  21.79979324  14.24273872  14.35892105\n",
        "   26.78941917  63.33091354  25.7790451   15.16078854  13.97614098\n",
        "   26.58402443  17.94813347  19.92427444  34.72303009  29.67738533\n",
        "   14.94087124  11.17531109  13.80497932  25.97302818  17.01970863\n",
        "   18.06950188  23.42012405  36.5300827   20.77282143  20.85165977\n",
        "   19.94294548  31.89107895  18.31846428  13.85165977  16.85477257\n",
        "   97.0331955   35.29253006  21.08091354  22.67323685  29.76452255\n",
        "   18.19917107  17.23132706  38.44398499  89.33817291  34.46265411\n",
        "   15.54149342  19.54668045  38.4066391   27.00726128  23.18464661\n",
        "   38.77385712  36.97303009  18.07883835  13.94709587  20.47302818\n",
        "   35.56846619  22.94709587  20.21369362  23.11307144  37.14211655\n",
        "   16.35477257  12.8423233   16.23236465  30.32157707  23.52489662\n",
        "   22.75726128  22.45331955  95.50726318  37.44813156  16.16286278\n",
        "   17.26244736  30.91908646  24.67842293  23.40975189  36.95020676\n",
        "   89.29045868  40.33298874  23.26037407  27.10062218  39.45954514\n",
        "   20.80082893  16.34854698  33.17116165  37.49688721  23.70020676\n",
        "   20.91804886  23.83817482  35.77178574  21.0331955   13.85373402\n",
        "   15.34647274  29.62759399  14.18983364  10.2188797   13.12033176\n",
        "   23.1234436   17.57261467  19.52800751  21.6856842   65.67427063\n",
        "   27.8755188   14.37863064  14.50414944  24.39211655  18.01348495\n",
        "   21.01037407  33.32883835  61.1576767   35.35684586  19.72925377\n",
        "   17.97199249  29.74066353  16.90145302  15.64522839  25.20124435\n",
        "   29.41390038  21.28526878  18.7821579   19.11410713  27.4356842\n",
        "   15.09024906  11.33609962  13.42634869]]\n"
       ]
      }
     ],
     "prompt_number": 18
    },
    {
     "cell_type": "heading",
     "level": 4,
     "metadata": {},
     "source": [
      "Compute Assignments"
     ]
    },
    {
     "cell_type": "markdown",
     "metadata": {},
     "source": [
      "Ara que ja tenim les centroides, fem les assignacions tant per train com per validacio"
     ]
    },
    {
     "cell_type": "code",
     "collapsed": false,
     "input": [
      "from scipy.cluster.vq import vq, whiten\n",
      "import matplotlib.pyplot as plt"
     ],
     "language": "python",
     "metadata": {},
     "outputs": [],
     "prompt_number": 21
    },
    {
     "cell_type": "markdown",
     "metadata": {},
     "source": [
      "Pel seguent cas:"
     ]
    },
    {
     "cell_type": "code",
     "collapsed": false,
     "input": [
      "descriptor2= get_local_features(\"../TerrassaBuildings900/val/images/22053-9694-8921.jpg\")\n",
      "codebook = train_codebook(5, descriptor2)\n",
      "assig = get_assignments(codebook, descriptor2)\n",
      "\n",
      "print(assig)\n",
      "print \"Longuitud del assignments= \" + str(len(assig))\n",
      "    \n",
      "plt.scatter(descriptor2[:,0], descriptor2[:,1]), plt.scatter(codebook[:,0], codebook[:,1], color='r'), plt.show()"
     ],
     "language": "python",
     "metadata": {},
     "outputs": [
      {
       "output_type": "stream",
       "stream": "stdout",
       "text": [
        "codebook creado\n",
        "\n",
        "[2 2 2 2 3 4 4 2 2 4 0 0 4 0 3 0 3 3 0 0 0 0 3 4 4 2 3 0 4 0 0 4 4 3 3 1 1\n",
        " 3 3 3 2 0 0 3 1 1 3 0 0 0 2 2 0 2 4 2 2 0 0 3 0 0 3 0 0 0 3 3 0 3 3 3 0 3\n",
        " 0 0 1 1 0 3 3 4 1 1 3 3 3 3 0 3 1 0 3 0 0 3 4 4 4 4 2 4 2 2 4 4 4 4 4 2 2\n",
        " 4 4 4 3 4 4 2 4 0 0 4 4 4 0 0 2 3 0 2 4 0 4 0 3 0 3 0 0 0 0 3 0 3 0 0 1 2\n",
        " 0 2 0 0 2 2 3 4 0 0 3 0 0 0 0 0 3 3 0 0 0 0 3 0 3 0 0 0 0 0 0 0 0 0 3 3 3\n",
        " 0 3 0 2 2 2 2 2 2 0 0 4 4 4 0 3 3 0 0 4 4 3 0 0 4 4 0 0 4 2 0 0 2 0 0 0 2\n",
        " 2 0 0 3 1 2 3 0 0 4 3 3 3 2 2 4 2 2 2 2 2 2 2 2 2 4 4 4 4 4 4 3 2 3 4 4 4\n",
        " 0 0 4 2 0 4 0 2 2 1 1 1 1 4 4 3 0 0 1 1 1 1 1 0 3 4 4 4 2 4 4 2 4 4 2 2 4\n",
        " 2 0 2 2 0 0 0 0 0 3 1 2 2 4 4 0 2 0 0 2 2 2 1 1 1 1 1 1 1 1 1 1 1 1 1 1 2\n",
        " 2 4 4 2 4 2 4 2 1 2 2 1 2 0 3 3 1 2 4 4 1 4 1 1 4 4 4 4 4 2 2 4 4 2 2 4 3\n",
        " 1 4 4 4 4 2 4 1 1 4 4 4 2 2 4 2 1 4 4 4 4 4 4 4 4 4 4 4 4 4 4 1 1 4 4 2 2\n",
        " 2 2 2]\n",
        "Longuitud del assignments= 410\n"
       ]
      },
      {
       "metadata": {},
       "output_type": "display_data",
       "png": "[encoded data removed]",
       "text": [
        "<matplotlib.figure.Figure at 0x10e58f110>"
       ]
      },
      {
       "metadata": {},
       "output_type": "pyout",
       "prompt_number": 22,
       "text": [
        "(<matplotlib.collections.PathCollection at 0x10f009c90>,\n",
        " <matplotlib.collections.PathCollection at 0x10f01a490>,\n",
        " None)"
       ]
      }
     ],
     "prompt_number": 22
    },
    {
     "cell_type": "markdown",
     "metadata": {},
     "source": [
      "Els punts vermells, son els 5 descriptors."
     ]
    },
    {
     "cell_type": "markdown",
     "metadata": {},
     "source": [
      "![](C:\\Users\\Marc\\Desktop\\figure_1.png)"
     ]
    },
    {
     "cell_type": "markdown",
     "metadata": {},
     "source": [
      "![](C:\\Users\\Marc\\Desktop\\figure_1.png)"
     ]
    },
    {
     "cell_type": "heading",
     "level": 4,
     "metadata": {},
     "source": [
      "Construct BoW vector"
     ]
    },
    {
     "cell_type": "markdown",
     "metadata": {},
     "source": [
      "Construir el vector Bag of Words amb tots els incidents (histograma) per totesles imatges.\n",
      "Tant  de validacio com d entrenament."
     ]
    },
    {
     "cell_type": "code",
     "collapsed": false,
     "input": [
      "bow1 = build_bow(assig)\n",
      "print bow1\n",
      "\n",
      "plt.plot(bow1, 'ro')"
     ],
     "language": "python",
     "metadata": {},
     "outputs": [
      {
       "output_type": "stream",
       "stream": "stdout",
       "text": [
        "[109  47  86  62 106]\n"
       ]
      },
      {
       "output_type": "stream",
       "stream": "stderr",
       "text": [
        "/Users/Sergi/Library/Enthought/Canopy_64bit/User/lib/python2.7/site-packages/sklearn/utils/validation.py:386: DeprecationWarning: Passing 1d arrays as data is deprecated in 0.17 and willraise ValueError in 0.19. Reshape your data either using X.reshape(-1, 1) if your data has a single feature or X.reshape(1, -1) if it contains a single sample.\n",
        "  DeprecationWarning)\n",
        "/Users/Sergi/Library/Enthought/Canopy_64bit/User/lib/python2.7/site-packages/sklearn/utils/validation.py:420: DataConversionWarning: Data with input dtype int64 was converted to float64 by the normalize function.\n",
        "  warnings.warn(msg, DataConversionWarning)\n"
       ]
      },
      {
       "metadata": {},
       "output_type": "pyout",
       "prompt_number": 28,
       "text": [
        "[<matplotlib.lines.Line2D at 0x10ee51bd0>]"
       ]
      },
      {
       "metadata": {},
       "output_type": "display_data",
       "png": "[encoded data removed]",
       "text": [
        "<matplotlib.figure.Figure at 0x10f081bd0>"
       ]
      }
     ],
     "prompt_number": 28
    },
    {
     "cell_type": "heading",
     "level": 3,
     "metadata": {},
     "source": [
      "Per K=5 ens fem un plot del histograma de cada regi\u00f3, quants descriptors hi ha.\n"
     ]
    },
    {
     "cell_type": "heading",
     "level": 1,
     "metadata": {},
     "source": [
      "Get features de les imatges de valicacio i de training."
     ]
    },
    {
     "cell_type": "code",
     "collapsed": false,
     "input": [
      "get_features(\"../txt/ID_images_train.txt\", \"../txt/ID_images_val.txt\", \"../TerrassaBuildings900/train/images/\", \"../TerrassaBuildings900/val/images/\")"
     ],
     "language": "python",
     "metadata": {},
     "outputs": [],
     "prompt_number": 30
    },
    {
     "cell_type": "code",
     "collapsed": false,
     "input": [
      "dict_val = pickle.load( open(\"../txt/bow_val.p\", \"rb\" ) ) #lee el archivo creado .p donde esta el diccionario.\n",
      "dict_train = pickle.load( open(\"../txt/bow_train.p\", \"rb\" ) )#\n"
     ],
     "language": "python",
     "metadata": {},
     "outputs": [],
     "prompt_number": 32
    },
    {
     "cell_type": "code",
     "collapsed": false,
     "input": [
      "print(dict_val)\n",
      "print(dict_train)"
     ],
     "language": "python",
     "metadata": {},
     "outputs": [
      {
       "output_type": "stream",
       "stream": "stdout",
       "text": [
        "{'10956-21869-28493': array([ 16,  34,  17,  41,  10,  41,  21,  20,  31,  70,  22,  27,  20,\n",
        "        13,  55,  16,  17,  30,  21,  13,  25,  25,  29,  26,  45,  46,\n",
        "        37,  17,  14, 140,  17,  24,  34,  23,  45,  29,  20,  21,  26,\n",
        "        43,  87,  25,  37,  27,  36,  30,  22,  93,  34,  34]), '10746-4356-24457': array([ 20,  14,  18,  38,  14,  22,   9,  16,  13,  76,  16,  19,   5,\n",
        "         8,   6,  11,  22,  18,   7,  14,  10,  10,   7,  26,  13,  29,\n",
        "        14,   8,  18, 115,   3,   4,  26,  14,  31,   8,  17,  14,   9,\n",
        "        81,  19,  12,  20,  14,   8,  15,   3,  18,  20,  14])}\n",
        "{'10022-29385-12746': array([ 3, 11,  7, 40, 12, 16,  7,  9, 11, 25, 10,  6, 10,  7, 11,  7, 11,\n",
        "       17,  5,  2, 10,  8,  7, 22, 17, 46, 13, 12, 16, 30,  5, 12, 13, 14,\n",
        "       20, 14, 10,  9,  4, 33, 11, 12, 13, 10, 16, 17,  5, 16,  9,  7]), '1003-11153-22558': array([14, 24, 14, 35, 14, 18, 22, 13, 23, 48, 25, 15, 17, 18, 21, 13, 14,\n",
        "       30, 15, 22, 20, 21, 19, 18, 33, 44, 25, 21, 12, 24, 15, 19, 22, 20,\n",
        "       25, 24, 27, 12, 21, 18, 36, 18, 23, 13, 20, 13, 28, 36, 27, 32])}\n"
       ]
      }
     ],
     "prompt_number": 33
    },
    {
     "cell_type": "code",
     "collapsed": false,
     "input": [
      "dict_val['10956-21869-28493']"
     ],
     "language": "python",
     "metadata": {},
     "outputs": [
      {
       "metadata": {},
       "output_type": "pyout",
       "prompt_number": 34,
       "text": [
        "array([ 16,  34,  17,  41,  10,  41,  21,  20,  31,  70,  22,  27,  20,\n",
        "        13,  55,  16,  17,  30,  21,  13,  25,  25,  29,  26,  45,  46,\n",
        "        37,  17,  14, 140,  17,  24,  34,  23,  45,  29,  20,  21,  26,\n",
        "        43,  87,  25,  37,  27,  36,  30,  22,  93,  34,  34])"
       ]
      }
     ],
     "prompt_number": 34
    },
    {
     "cell_type": "heading",
     "level": 3,
     "metadata": {},
     "source": [
      "Els diccionarios amb les seves caracteristiques s'ha creat be. Les dades haurien de ser tipos float32, pero ens donava errors."
     ]
    }
   ],
   "metadata": {}
  }
 ]
}