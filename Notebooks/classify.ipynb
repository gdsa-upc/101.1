{
 "metadata": {
  "name": "",
  "signature": "sha256:b441b7065ead8e91d18b79672380f345da4bedd12b54ffec4a0a891df7d744a4"
 },
 "nbformat": 3,
 "nbformat_minor": 0,
 "worksheets": [
  {
   "cells": [
    {
     "cell_type": "code",
     "collapsed": false,
     "input": [
      "# -*- coding: utf-8 -*-\n",
      "\n",
      "import pickle #Ejemplos de serializaci\u00f3n: https://docs.python.org/2/library/pickle.html\n",
      "import numpy as np\n",
      "import os\n",
      "\n",
      "#    Para utilizar el path se debe utilizar una estructura asi:\n",
      "\n",
      "#    src                                -> Aqu\u00ed deben estar los archivos .py\n",
      "#    txt  "
     ],
     "language": "python",
     "metadata": {},
     "outputs": [],
     "prompt_number": 1
    },
    {
     "cell_type": "code",
     "collapsed": false,
     "input": [
      "cd /Users/Sergi/Desktop/GDSA101.1/101.1/src"
     ],
     "language": "python",
     "metadata": {},
     "outputs": [
      {
       "output_type": "stream",
       "stream": "stdout",
       "text": [
        "/Users/Sergi/Desktop/GDSA101.1/101.1/src\n"
       ]
      }
     ],
     "prompt_number": 2
    },
    {
     "cell_type": "code",
     "collapsed": false,
     "input": [
      "path_imagenes_train = \"../TerrassaBuildings900/train/images/\"\n",
      "path_imagenes_val = \"../TerrassaBuildings900/val/images/\"\n",
      "dir_archivos_txt = \"../txt/\"\n",
      "dir_descriptores = \"../descriptores/\""
     ],
     "language": "python",
     "metadata": {},
     "outputs": [],
     "prompt_number": 3
    },
    {
     "cell_type": "code",
     "collapsed": false,
     "input": [
      "#Definim la funcion classify\n",
      "def classify(features_file, results_dir, vector_etiquetes):\n",
      "    ImID = pickle.load( open(dir_descriptores + features_file, \"r\" ) ) #Obrim l'arxiu amb les Im ID'\n",
      "    classi = open(results_dir + \"classificacio.txt\", \"w\") #Creem l'arxiu per guardar els resultats\n",
      "    \n",
      "    descrip = pickle.load(open(dir_descriptores+features_file, \"r\")) #Obrim l'arxiu per llegir les im ID's\n",
      "\n",
      "\n",
      "    if not os.path.exists(results_dir):\n",
      "        os.makedirs(results_dir)\n",
      "\n",
      "    #For per asignar un edifici random despres de cada id despr\u00e9s de una tabulaci\u00f3: 29796-14601-23662\tcatedral\n",
      "    for keyval, valuesval in ImID.items():\n",
      "        classi.write(keyval + \"\\t\" + vector_etiquetes[np.random.randint(0, 13)]+ \"\\n\") #Asignem una classificaci\u00f3 aleatoria depenent de la posici\u00f3 (random) del vector d'etiquetes\n",
      "        \n",
      "    classi.close()"
     ],
     "language": "python",
     "metadata": {},
     "outputs": [],
     "prompt_number": 4
    },
    {
     "cell_type": "code",
     "collapsed": false,
     "input": [
      "#definim un vector amb totes les posibles etiquetes:\n",
      "\n",
      "vector_etiquetes = [\"mnactec\", \"mercat_independencia\", \"ajuntament\", \"societat_general\", \"estacio_nord\", \"dona_treballadora\", \"escola_enginyeria\", \"catedral\", \"teatre_principal\", \"farmacia_albinyana\", \"masia_freixa\", \"castell_cartoixa\", \"desconegut\"]\n"
     ],
     "language": "python",
     "metadata": {},
     "outputs": [],
     "prompt_number": 6
    },
    {
     "cell_type": "code",
     "collapsed": false,
     "input": [
      "#probem la funcio\n",
      "classify (\"descriptor_val.p\", dir_archivos_txt, vector_etiquetes)\n"
     ],
     "language": "python",
     "metadata": {},
     "outputs": [],
     "prompt_number": 7
    },
    {
     "cell_type": "code",
     "collapsed": false,
     "input": [
      "os.listdir('../txt') #El fichero generado es el clasificacio"
     ],
     "language": "python",
     "metadata": {},
     "outputs": [
      {
       "metadata": {},
       "output_type": "pyout",
       "prompt_number": 10,
       "text": [
        "['.DS_Store', 'classificacio.txt', 'ID_images_train.txt', 'ID_images_val.txt']"
       ]
      }
     ],
     "prompt_number": 10
    },
    {
     "cell_type": "code",
     "collapsed": false,
     "input": [],
     "language": "python",
     "metadata": {},
     "outputs": [],
     "prompt_number": 8
    },
    {
     "cell_type": "code",
     "collapsed": false,
     "input": [],
     "language": "python",
     "metadata": {},
     "outputs": []
    }
   ],
   "metadata": {}
  }
 ]
}