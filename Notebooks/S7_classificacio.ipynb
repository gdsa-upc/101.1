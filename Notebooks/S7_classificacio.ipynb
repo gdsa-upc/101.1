{
 "metadata": {
  "name": "",
  "signature": "sha256:781c6912d4a61af506692fd0c373c8f65d52866dbd677575034d170c6d8e21e0"
 },
 "nbformat": 3,
 "nbformat_minor": 0,
 "worksheets": [
  {
   "cells": [
    {
     "cell_type": "heading",
     "level": 1,
     "metadata": {},
     "source": [
      "Session 7 - GDSA / What a Building App! (101.1)"
     ]
    },
    {
     "cell_type": "heading",
     "level": 3,
     "metadata": {},
     "source": [
      "Notebook de la Classificaci\u00f3"
     ]
    },
    {
     "cell_type": "heading",
     "level": 2,
     "metadata": {},
     "source": [
      "Step1. Entrenar el classificador amb les imatges de training."
     ]
    },
    {
     "cell_type": "heading",
     "level": 4,
     "metadata": {},
     "source": [
      "Utilitzarem com a parametres d'entrada: el Bag Of Words generat amb les 450 imatges d'entrenament, agafant 200 centroides. Tamb\u00e9 utilitzarem l'arxiu annotation.txt, que ser\u00e0 per saber quina imatge pertany a cada clase."
     ]
    },
    {
     "cell_type": "code",
     "collapsed": false,
     "input": [
      "import os\n",
      "os.chdir(\"/Users/Sergi/Desktop/GDSA101.1/app/What-a-building-App/src/\")\n",
      "os.getcwd()\n",
      "from train_classifier import train_classifier"
     ],
     "language": "python",
     "metadata": {},
     "outputs": [],
     "prompt_number": 1
    },
    {
     "cell_type": "code",
     "collapsed": false,
     "input": [
      "train_classifier(\"../txt/bow_train.p\", \"../TerrassaBuildings900/train/annotation.txt\")"
     ],
     "language": "python",
     "metadata": {},
     "outputs": [
      {
       "output_type": "stream",
       "stream": "stdout",
       "text": [
        "Best parameters:\n",
        "{'kernel': 'rbf', 'C': 10, 'gamma': 0.0001}\n"
       ]
      }
     ],
     "prompt_number": 2
    },
    {
     "cell_type": "heading",
     "level": 4,
     "metadata": {},
     "source": [
      "S'agafen els millors param\u00e0tres per entrenar el clasificador. S'ha tingut en compte que la clase desconegut tingui menys pes."
     ]
    },
    {
     "cell_type": "heading",
     "level": 4,
     "metadata": {},
     "source": [
      "Al fer l'entrenament, s'ha creat un arxiu classifer.p on s'han guardat cada clase amb el seu bow:\n",
      "\n",
      "    #array_clases= [\"ajuntament\", \"teatre_principal\", \"mnatec\"]\n",
      "    #array_bow= [[0,2,1,0,5],[2,5,7,1,9],[3,9,0,4,0]]\n"
     ]
    },
    {
     "cell_type": "code",
     "collapsed": false,
     "input": [
      "import pickle\n",
      "dict_classifier = pickle.load( open(\"../txt/classifier.p\", \"rb\" ) )\n",
      "dict_classifier\n"
     ],
     "language": "python",
     "metadata": {},
     "outputs": [
      {
       "metadata": {},
       "output_type": "pyout",
       "prompt_number": 3,
       "text": [
        "SVC(C=10, cache_size=200,\n",
        "  class_weight={'mercat_independencia': 1.3846153846153846, 'societat_general': 1.3846153846153846, 'desconegut': 0.23076923076923078, 'farmacia_albinyana': 1.3846153846153846, 'ajuntament': 1.3846153846153846, 'mnactec': 1.3846153846153846, 'escola_enginyeria': 1.3846153846153846, 'masia_freixa': 1.3...al': 1.3846153846153846, 'teatre_principal': 1.3846153846153846, 'estacio_nord': 1.3846153846153846},\n",
        "  coef0=0.0, decision_function_shape=None, degree=3, gamma=0.0001,\n",
        "  kernel='rbf', max_iter=-1, probability=False, random_state=None,\n",
        "  shrinking=True, tol=0.001, verbose=False)"
       ]
      }
     ],
     "prompt_number": 3
    },
    {
     "cell_type": "heading",
     "level": 4,
     "metadata": {},
     "source": [
      "Al obrir el diccionari classifier.p, observem que la clase 'desconegut' t\u00e9 un pes molt menor a les altres 12 clases, ja que hi ha m\u00e9s imatges."
     ]
    },
    {
     "cell_type": "heading",
     "level": 2,
     "metadata": {},
     "source": [
      "Step2. Classifiquem les imatges amb la funci\u00f3 classify"
     ]
    },
    {
     "cell_type": "code",
     "collapsed": false,
     "input": [
      "from classify import classify\n",
      "classify (\"../txt/bow_val.p\", \"../txt/classifier.p\", \"../txt/classification.txt\")"
     ],
     "language": "python",
     "metadata": {},
     "outputs": [],
     "prompt_number": 5
    },
    {
     "cell_type": "heading",
     "level": 4,
     "metadata": {},
     "source": [
      "Al executar el classify, amb el diccionario de Bag of Words de les imatges de validaci\u00f3, li assignem una clase amb el diccionari de models, el classifier.p y amb el txt de la classficacio."
     ]
    },
    {
     "cell_type": "heading",
     "level": 2,
     "metadata": {},
     "source": [
      "Step3. Evaluem la classificaci\u00f3 que hem obtingut."
     ]
    },
    {
     "cell_type": "code",
     "collapsed": false,
     "input": [
      "#from evaluate_classification import evaluate_classification\n",
      "execfile(\"evaluate_classification.py\")"
     ],
     "language": "python",
     "metadata": {},
     "outputs": [
      {
       "output_type": "stream",
       "stream": "stdout",
       "text": [
        "Accuracy\n",
        "0.616666666667\n",
        "\n",
        "\n",
        "Precision general\n",
        "0.676828968133\n",
        "\n",
        "\n",
        "Precision per cada classe\n",
        "[ 1.          0.71428571  0.625       0.55072464  0.42857143  0.875\n",
        "  0.71428571  0.5         0.54545455  0.5         0.54545455  1.          0.8       ]\n",
        "\n",
        "\n",
        "Recall general\n",
        "0.610256410256\n",
        "\n",
        "\n",
        "Recall per cada classe\n",
        "[ 1.          0.5         1.          0.63333333  0.6         0.7         0.5\n",
        "  0.6         0.6         0.2         0.6         0.6         0.4       ]\n",
        "\n",
        "\n",
        "F1-score en general\n",
        "0.620768133033\n",
        "\n",
        "\n",
        "F1-score per cada classe\n",
        "[ 1.          0.58823529  0.76923077  0.58914729  0.5         0.77777778\n",
        "  0.58823529  0.54545455  0.57142857  0.28571429  0.57142857  0.75\n",
        "  0.53333333]\n",
        "\n",
        "\n",
        "Matriu confusi\u00f3\n",
        "[[10  0  0  0  0  0  0  0  0  0  0  0  0]\n",
        " [ 0  5  0  5  0  0  0  0  0  0  0  0  0]\n",
        " [ 0  0 10  0  0  0  0  0  0  0  0  0  0]\n",
        " [ 0  2  1 38  5  0  2  4  2  2  3  0  1]\n",
        " [ 0  0  2  2  6  0  0  0  0  0  0  0  0]\n",
        " [ 0  0  1  1  1  7  0  0  0  0  0  0  0]\n",
        " [ 0  0  0  3  0  0  5  0  1  0  1  0  0]\n",
        " [ 0  0  0  3  0  0  0  6  1  0  0  0  0]\n",
        " [ 0  0  1  2  0  0  0  0  6  0  1  0  0]\n",
        " [ 0  0  0  7  1  0  0  0  0  2  0  0  0]\n",
        " [ 0  0  0  2  0  1  0  0  1  0  6  0  0]\n",
        " [ 0  0  1  2  0  0  0  1  0  0  0  6  0]\n",
        " [ 0  0  0  4  1  0  0  1  0  0  0  0  4]]\n"
       ]
      },
      {
       "metadata": {},
       "output_type": "display_data",
       "png": "[encoded data removed]",
       "text": [
        "<matplotlib.figure.Figure at 0x10b5fcd10>"
       ]
      }
     ],
     "prompt_number": 6
    },
    {
     "cell_type": "heading",
     "level": 3,
     "metadata": {},
     "source": [
      "Els resultats obtinguts milloren els resultats aleatoris. Obtenim un F1 de 0,62"
     ]
    }
   ],
   "metadata": {}
  }
 ]
}