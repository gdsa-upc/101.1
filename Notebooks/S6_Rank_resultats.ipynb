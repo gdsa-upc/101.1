{
 "metadata": {
  "kernelspec": {
   "display_name": "Python 2",
   "language": "python",
   "name": "python2"
  },
  "language_info": {
   "codemirror_mode": {
    "name": "ipython",
    "version": 2
   },
   "file_extension": ".py",
   "mimetype": "text/x-python",
   "name": "python",
   "nbconvert_exporter": "python",
   "pygments_lexer": "ipython2",
   "version": "2.7.10"
  },
  "name": "",
  "signature": "sha256:1190ad8ca65b4483c3bd22d9db51326ff1942fb206b2248811318a6a51494a18"
 },
 "nbformat": 3,
 "nbformat_minor": 0,
 "worksheets": [
  {
   "cells": [
    {
     "cell_type": "heading",
     "level": 1,
     "metadata": {},
     "source": [
      "Session 6 - GDSA / What a Building App! (101.1)"
     ]
    },
    {
     "cell_type": "heading",
     "level": 2,
     "metadata": {},
     "source": [
      "Generar un Rank i evaluar-lo"
     ]
    },
    {
     "cell_type": "heading",
     "level": 3,
     "metadata": {},
     "source": [
      "Tornem a extreure les caracter\u00edstiques i tornarem a generar dos diccionaris, un per les imatges de validaci\u00f3 i un altre per les de entrenament."
     ]
    },
    {
     "cell_type": "heading",
     "level": 4,
     "metadata": {},
     "source": [
      "Step1. Cridem a la funcio get_features per 450 imatges de training per fer el codebook i utilitzem 180 tan de validaci\u00f3 i d'entrenament imatges per realitzar el vector assignments."
     ]
    },
    {
     "cell_type": "code",
     "collapsed": false,
     "input": [
      "from get_features import get_features\n",
      "\n",
      "get_features(db_image_train,db_image_val,dir_img_train,dir_img_val)\n"
     ],
     "language": "python",
     "metadata": {},
     "outputs": []
    },
    {
     "cell_type": "heading",
     "level": 2,
     "metadata": {},
     "source": [
      "Generem els rankings"
     ]
    },
    {
     "cell_type": "code",
     "collapsed": false,
     "input": [
      "from rank import rank\n",
      "\n",
      "rank(\"../txt/bow_train.p\", \"../txt/bow_val.p\", \"../rank/\", \"../TerrassaBuildings900/val/annotation.txt\")\n",
      "\n"
     ],
     "language": "python",
     "metadata": {},
     "outputs": [],
     "prompt_number": 2
    },
    {
     "cell_type": "heading",
     "level": 4,
     "metadata": {},
     "source": [
      "Step2. Cridem a la funci\u00f3 rank per obtenir un ranking comparant les imatges de validaci\u00f3 amb les de training. Per cada imatge de validaci\u00f3 ha de generar un arxiu amb les 50 imatges que m\u00e9s s'asemblen."
     ]
    },
    {
     "cell_type": "heading",
     "level": 2,
     "metadata": {},
     "source": [
      "Evaluaci\u00f3 del ranking"
     ]
    },
    {
     "cell_type": "heading",
     "level": 4,
     "metadata": {},
     "source": [
      "Step3. Evaluem el ranking generat amb la funci\u00f3 evalute_ranking"
     ]
    },
    {
     "cell_type": "code",
     "collapsed": false,
     "input": [
      "from evaluate_ranking import evaluate_rank\n",
      "dir_rank=\"../rank/\"\n",
      "AP,MAP = evaluate_rank(dir_rank)\n",
      "print(\"MAP: \" + str(MAP))\n"
     ],
     "language": "python",
     "metadata": {},
     "outputs": [
      {
       "output_type": "stream",
       "stream": "stdout",
       "text": [
        "MAP: 0.254645713274\n"
       ]
      }
     ],
     "prompt_number": 11
    },
    {
     "cell_type": "heading",
     "level": 4,
     "metadata": {},
     "source": [
      "Ens ha donat un MAP de 0.254, en comparaci\u00f3 amb l'aleatori que era de l'ordre 0,05 tenim una bona millora."
     ]
    }
   ],
   "metadata": {}
  }
 ]
}