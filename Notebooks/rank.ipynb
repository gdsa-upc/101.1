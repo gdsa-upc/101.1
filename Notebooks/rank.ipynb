{
 "metadata": {
  "name": "",
  "signature": "sha256:89d4c0905edf82f63e9a21b40b47f9de1c4293413e67e7d0f1ecace0aad31a4f"
 },
 "nbformat": 3,
 "nbformat_minor": 0,
 "worksheets": [
  {
   "cells": [
    {
     "cell_type": "code",
     "collapsed": false,
     "input": [
      "\n",
      "# -*- coding: utf-8 -*-\n",
      "import os\n",
      "import pickle\n",
      "import numpy as np"
     ],
     "language": "python",
     "metadata": {},
     "outputs": [],
     "prompt_number": 1
    },
    {
     "cell_type": "code",
     "collapsed": false,
     "input": [
      "# Calcular distancia: POR IMPLEMENTAR\n",
      "def distance(x, y): \n",
      "    return np.random.randint(0, 451)"
     ],
     "language": "python",
     "metadata": {},
     "outputs": [],
     "prompt_number": 2
    },
    {
     "cell_type": "code",
     "collapsed": false,
     "input": [
      "def rank(features_file, results_dir, features_train, annotation_path):\n",
      "    features_val = pickle.load( open(\"../descriptores/\"+features_file, \"r\" ) )\n",
      "    features_train = pickle.load( open(\"../descriptores/\"+features_train, \"r\" ) )\n",
      "    \n",
      "\n",
      "    # Creamos el directorio si no existe\n",
      "    if not os.path.exists(results_dir):\n",
      "        os.makedirs(results_dir)\n",
      "\n",
      "    # Por cada imagen en el set de validaci\u00f3n, creamos un ranking de las imagenes de training y lo escribimos en fichero\n",
      "    vector= []\n",
      "    for k_val, v_val in features_val.items():\n",
      "        annotations= open(annotation_path, \"r\")\n",
      "        for line in annotations:\n",
      "            rec= line.split(\"\\t\")\n",
      "            if rec[0]==k_val and rec[1]!=\"desconegut\\n\":\n",
      "                rank= open(results_dir + \"/rank_\" + k_val +'.txt', 'w')\n",
      "                for k_train, v_train in features_train.items():\n",
      "                    vector.insert( distance(v_train[0], v_val[0]), k_train) \n",
      "                for item in vector:\n",
      "                    rank.write(\"%s\\n\" % item)\n",
      "                vector=[]\n",
      "                rank.close()"
     ],
     "language": "python",
     "metadata": {},
     "outputs": [],
     "prompt_number": 3
    },
    {
     "cell_type": "code",
     "collapsed": false,
     "input": [
      "cd /Users/Sergi/Desktop/GDSA101.1/101.1/src"
     ],
     "language": "python",
     "metadata": {},
     "outputs": [
      {
       "output_type": "stream",
       "stream": "stdout",
       "text": [
        "/Users/Sergi/Desktop/GDSA101.1/101.1/src\n"
       ]
      }
     ],
     "prompt_number": 4
    },
    {
     "cell_type": "code",
     "collapsed": false,
     "input": [
      "# Ejecutamos\n",
      "rank(\"descriptor_val.p\", \"../rank/\", \"descriptor_train.p\", \"../TerrassaBuildings900/val/annotation.txt\")\n"
     ],
     "language": "python",
     "metadata": {},
     "outputs": [],
     "prompt_number": 5
    },
    {
     "cell_type": "code",
     "collapsed": false,
     "input": [
      "#Comprobamos que ha generado los 120 archivos txt\n",
      "\n",
      "fichero = os.listdir('/Users/Sergi/Desktop/GDSA101.1/101.1/rank/')"
     ],
     "language": "python",
     "metadata": {},
     "outputs": [],
     "prompt_number": 6
    },
    {
     "cell_type": "code",
     "collapsed": false,
     "input": [
      "print(fichero[1:10]) #mostramos solo los 10 primeros de los 120"
     ],
     "language": "python",
     "metadata": {},
     "outputs": [
      {
       "output_type": "stream",
       "stream": "stdout",
       "text": [
        "['rank_10956-21869-28493.txt', 'rank_11072-19559-2960.txt', 'rank_11485-2695-23379.txt', 'rank_11776-28585-22785.txt', 'rank_11783-18760-3162.txt', 'rank_11962-11431-11239.txt', 'rank_12201-19278-27341.txt', 'rank_12678-16441-5334.txt', 'rank_1298-19523-5253.txt']\n"
       ]
      }
     ],
     "prompt_number": 7
    },
    {
     "cell_type": "code",
     "collapsed": false,
     "input": [],
     "language": "python",
     "metadata": {},
     "outputs": []
    }
   ],
   "metadata": {}
  }
 ]
}